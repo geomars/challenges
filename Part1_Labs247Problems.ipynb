{
 "cells": [
  {
   "cell_type": "markdown",
   "id": "stable-transfer",
   "metadata": {},
   "source": [
    "# Part 1"
   ]
  },
  {
   "cell_type": "markdown",
   "id": "characteristic-sheet",
   "metadata": {},
   "source": [
    "## Pertanyaan: \n",
    "\n",
    "Jelaskan bagaimana algoritma LDA mampu membantu proses pengklasifikasian. adakah algoritma lain yang serupa yg menurut kamu lebih baik?\n",
    "\n",
    "### Jawaban:\n",
    "\n",
    "* Cara kerja algoritma LDA dalam klasifikasi [2]:\n",
    "\n",
    "\t* Dalam algoritma LDA, topik adalah sekumpulan kata yang relevan di korpora. Oleh karena itu, sebuah dokumen berisi campuran lebih dari satu set topik (K) yang telah ditentukan sebelumnya.\n",
    "\n",
    "\t* Masukan dari LDA adalah matriks sekumpulan kata kunci dari setiap dokumen teks (m × n), sedangkan luaran dari LDA adalah dua distribusi probabilitas, satu terkait dengan dokumen dan yang lainnya terkait istilah dalam korpora.\n",
    "\n",
    "    * Topik dipilih berdasarkan distribusi multinomial dokumen.\n",
    "\n",
    "    * Distribusi pertama adalah matriks topik berdasarkan dokumen(Θ):matriks K × n, dengan K adalah jumlah topik, n adalah jumlah dokumen, dan entri umum Θ(i, j) menunjukkan probabilitas j dokumen agar relevan dengan topik ke-i.\n",
    "    \n",
    "    * Distribusi kedua adalah matriks kata terkait topik tertentu(Φ): matriks m × K, dengan m adalah jumlah kata dalam korpora, K adalah jumlah topik, dan entri generik Φ(i, j) menunjukkan probabilitas dari kata ke-i untuk masuk ke dalam topik ke-j.\n",
    "\n",
    "    * Akhirnya sebuah kata dikelompokkan berdasarkan nilai probabilitas topik.\n",
    "\n",
    "\n",
    "* Algoritma yang lebih baik dari LDA adalah LDA2VEC, hybrid LDA dengan word2vec\n",
    "\n",
    "    * Hasil akhir dari lda2vec adalah satu set vektor bobot dokumen yang lebih sedikit, serta vektor topik yang mudah ditafsirkan.\n",
    "\n",
    "    * Meskipun kinerjanya cenderung mirip dengan LDA tradisional, menggunakan metode diferensiasi otomatis membuat metode ini dapat diskalakan ke kumpulan data yang sangat luas. Selain itu, dengan menggabungkan vektor konteks dan vektor kata, vektor kata 'khusus' dapat diperoleh, yang dapat digunakan dalam model lain."
   ]
  },
  {
   "cell_type": "markdown",
   "id": "protected-stuff",
   "metadata": {},
   "source": [
    "## Pertanyaan: \n",
    "\n",
    "Jelaskan hasil akhir penelitian ini [1] menurutmu? apakah sudah baik? dimanakah sisi kekurangannya? skenario manakah yang terbaik/ideal jika diimplementasikan dengan data twitter (bahasa Indonesia) secara luas?   \n",
    "\n",
    "### Jawaban\n",
    "\n",
    " * Penelitian sudah cukup bagus. \n",
    "\n",
    " * Kekurangan: dalam penelitian ini belum dibahas apakah sistem yang dirancang mampu mengelompokkan  user berdasarkan tweet berisi kalimat sarkas atau satir kedalam tipe kepribadian tertentu.\n",
    "\n",
    " * Skenario terbaik adalah menggabungkan penelitian ini dengan penelitian dari [3] menggunakan algoritma LDA2VEC, untuk memprediksi kepribadian berdasarkan emosi yang tersirat dalam isi tweet dalam bahasa Indonesia dengan menggunakan LDA dan word2vec."
   ]
  },
  {
   "cell_type": "markdown",
   "id": "former-corner",
   "metadata": {},
   "source": [
    "## Referensi:\n",
    "\n",
    "  - [1] Veronica Ong, Anneke D.S. Rahmanto, Williem, Derwin Suhartono, Aryo E. Nugroho, Esther W. Andangsari, Muhamad N. Suprayogi, \"Personality Prediction Based on Twitter Information\n",
    "in Bahasa Indonesia\"\n",
    "\n",
    "  - [2] A. Panichella, \"A Systematic Comparison of Search Algorithms for Topic Modelling - A Study on Duplicate Bug Report Identification\", The 11th Symposium on Search-Based Software Engineering (SSBSE), Tallinn Estonia, 31 Aug - 1 Sep, 2019.\n",
    "\n",
    "  - [3] Mei Silviana Saputri, Rahmad Mahendra, and Mirna Adriani, \"Emotion Classification on Indonesian Twitter Dataset\", in Proceeding of International Conference on Asian Language Processing 2018. 2018."
   ]
  }
 ],
 "metadata": {
  "kernelspec": {
   "display_name": "Python 3",
   "language": "python",
   "name": "python3"
  },
  "language_info": {
   "codemirror_mode": {
    "name": "ipython",
    "version": 3
   },
   "file_extension": ".py",
   "mimetype": "text/x-python",
   "name": "python",
   "nbconvert_exporter": "python",
   "pygments_lexer": "ipython3",
   "version": "3.7.5"
  }
 },
 "nbformat": 4,
 "nbformat_minor": 5
}
